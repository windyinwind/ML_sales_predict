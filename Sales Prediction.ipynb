{
 "cells": [
  {
   "cell_type": "code",
   "execution_count": 1,
   "metadata": {},
   "outputs": [],
   "source": [
    "import numpy as np\n",
    "import pandas as pd\n",
    "%matplotlib inline\n",
    "import matplotlib.pyplot as plt\n",
    "from sklearn.linear_model import LinearRegression"
   ]
  },
  {
   "cell_type": "code",
   "execution_count": 2,
   "metadata": {},
   "outputs": [],
   "source": [
    "sales = pd.read_csv('combined.csv')"
   ]
  },
  {
   "cell_type": "code",
   "execution_count": 3,
   "metadata": {},
   "outputs": [],
   "source": [
    "sales = sales[sales['month'] >= '2016-01']"
   ]
  },
  {
   "cell_type": "code",
   "execution_count": 4,
   "metadata": {},
   "outputs": [
    {
     "data": {
      "text/html": [
       "<div>\n",
       "<style scoped>\n",
       "    .dataframe tbody tr th:only-of-type {\n",
       "        vertical-align: middle;\n",
       "    }\n",
       "\n",
       "    .dataframe tbody tr th {\n",
       "        vertical-align: top;\n",
       "    }\n",
       "\n",
       "    .dataframe thead th {\n",
       "        text-align: right;\n",
       "    }\n",
       "</style>\n",
       "<table border=\"1\" class=\"dataframe\">\n",
       "  <thead>\n",
       "    <tr style=\"text-align: right;\">\n",
       "      <th></th>\n",
       "      <th>month</th>\n",
       "      <th>sales</th>\n",
       "    </tr>\n",
       "  </thead>\n",
       "  <tbody>\n",
       "    <tr>\n",
       "      <th>24</th>\n",
       "      <td>2016-01</td>\n",
       "      <td>32759506.12</td>\n",
       "    </tr>\n",
       "    <tr>\n",
       "      <th>25</th>\n",
       "      <td>2016-02</td>\n",
       "      <td>39785722.81</td>\n",
       "    </tr>\n",
       "    <tr>\n",
       "      <th>26</th>\n",
       "      <td>2016-03</td>\n",
       "      <td>50276824.29</td>\n",
       "    </tr>\n",
       "    <tr>\n",
       "      <th>27</th>\n",
       "      <td>2016-04</td>\n",
       "      <td>26237321.88</td>\n",
       "    </tr>\n",
       "    <tr>\n",
       "      <th>28</th>\n",
       "      <td>2016-05</td>\n",
       "      <td>30250499.14</td>\n",
       "    </tr>\n",
       "  </tbody>\n",
       "</table>\n",
       "</div>"
      ],
      "text/plain": [
       "      month        sales\n",
       "24  2016-01  32759506.12\n",
       "25  2016-02  39785722.81\n",
       "26  2016-03  50276824.29\n",
       "27  2016-04  26237321.88\n",
       "28  2016-05  30250499.14"
      ]
     },
     "execution_count": 4,
     "metadata": {},
     "output_type": "execute_result"
    }
   ],
   "source": [
    "sales.head()"
   ]
  },
  {
   "cell_type": "code",
   "execution_count": 5,
   "metadata": {},
   "outputs": [
    {
     "data": {
      "text/html": [
       "<div>\n",
       "<style scoped>\n",
       "    .dataframe tbody tr th:only-of-type {\n",
       "        vertical-align: middle;\n",
       "    }\n",
       "\n",
       "    .dataframe tbody tr th {\n",
       "        vertical-align: top;\n",
       "    }\n",
       "\n",
       "    .dataframe thead th {\n",
       "        text-align: right;\n",
       "    }\n",
       "</style>\n",
       "<table border=\"1\" class=\"dataframe\">\n",
       "  <thead>\n",
       "    <tr style=\"text-align: right;\">\n",
       "      <th></th>\n",
       "      <th>month</th>\n",
       "      <th>sales</th>\n",
       "    </tr>\n",
       "  </thead>\n",
       "  <tbody>\n",
       "    <tr>\n",
       "      <th>24</th>\n",
       "      <td>2016-01</td>\n",
       "      <td>32759506.12</td>\n",
       "    </tr>\n",
       "    <tr>\n",
       "      <th>25</th>\n",
       "      <td>2016-02</td>\n",
       "      <td>39785722.81</td>\n",
       "    </tr>\n",
       "    <tr>\n",
       "      <th>26</th>\n",
       "      <td>2016-03</td>\n",
       "      <td>50276824.29</td>\n",
       "    </tr>\n",
       "    <tr>\n",
       "      <th>27</th>\n",
       "      <td>2016-04</td>\n",
       "      <td>26237321.88</td>\n",
       "    </tr>\n",
       "    <tr>\n",
       "      <th>28</th>\n",
       "      <td>2016-05</td>\n",
       "      <td>30250499.14</td>\n",
       "    </tr>\n",
       "  </tbody>\n",
       "</table>\n",
       "</div>"
      ],
      "text/plain": [
       "      month        sales\n",
       "24  2016-01  32759506.12\n",
       "25  2016-02  39785722.81\n",
       "26  2016-03  50276824.29\n",
       "27  2016-04  26237321.88\n",
       "28  2016-05  30250499.14"
      ]
     },
     "execution_count": 5,
     "metadata": {},
     "output_type": "execute_result"
    }
   ],
   "source": [
    "sales.head()"
   ]
  },
  {
   "cell_type": "code",
   "execution_count": 6,
   "metadata": {},
   "outputs": [
    {
     "data": {
      "image/png": "[encoded data removed]",
      "text/plain": [
       "<Figure size 1440x720 with 1 Axes>"
      ]
     },
     "metadata": {
      "needs_background": "light"
     },
     "output_type": "display_data"
    }
   ],
   "source": [
    "plt.figure(figsize=(20, 10))\n",
    "plt.xlabel('Month')\n",
    "plt.ylabel('Sales')\n",
    "plt.title(\"2014 ~ 2019\")\n",
    "plt.scatter(sales['month'], sales['sales'])\n",
    "plt.show()"
   ]
  },
  {
   "cell_type": "code",
   "execution_count": 7,
   "metadata": {},
   "outputs": [],
   "source": [
    "def yearmonth_to_num(year_month):\n",
    "    start_year = 2008\n",
    "    year, month = year_month.split('-')\n",
    "    index = (int(year) - start_year) * 12 + (int(month) - 1)\n",
    "    return index\n",
    "    "
   ]
  },
  {
   "cell_type": "code",
   "execution_count": 8,
   "metadata": {},
   "outputs": [
    {
     "data": {
      "text/plain": [
       "133"
      ]
     },
     "execution_count": 8,
     "metadata": {},
     "output_type": "execute_result"
    }
   ],
   "source": [
    "yearmonth_to_num(\"2019-02\")"
   ]
  },
  {
   "cell_type": "code",
   "execution_count": 9,
   "metadata": {},
   "outputs": [],
   "source": [
    "yearmonth_index = [yearmonth_to_num(m) for m in sales['month']]"
   ]
  },
  {
   "cell_type": "code",
   "execution_count": 10,
   "metadata": {},
   "outputs": [],
   "source": [
    "sales['yearmonth_index'] = yearmonth_index"
   ]
  },
  {
   "cell_type": "code",
   "execution_count": 11,
   "metadata": {},
   "outputs": [
    {
     "data": {
      "text/html": [
       "<div>\n",
       "<style scoped>\n",
       "    .dataframe tbody tr th:only-of-type {\n",
       "        vertical-align: middle;\n",
       "    }\n",
       "\n",
       "    .dataframe tbody tr th {\n",
       "        vertical-align: top;\n",
       "    }\n",
       "\n",
       "    .dataframe thead th {\n",
       "        text-align: right;\n",
       "    }\n",
       "</style>\n",
       "<table border=\"1\" class=\"dataframe\">\n",
       "  <thead>\n",
       "    <tr style=\"text-align: right;\">\n",
       "      <th></th>\n",
       "      <th>month</th>\n",
       "      <th>sales</th>\n",
       "      <th>yearmonth_index</th>\n",
       "    </tr>\n",
       "  </thead>\n",
       "  <tbody>\n",
       "    <tr>\n",
       "      <th>24</th>\n",
       "      <td>2016-01</td>\n",
       "      <td>32759506.12</td>\n",
       "      <td>96</td>\n",
       "    </tr>\n",
       "    <tr>\n",
       "      <th>25</th>\n",
       "      <td>2016-02</td>\n",
       "      <td>39785722.81</td>\n",
       "      <td>97</td>\n",
       "    </tr>\n",
       "    <tr>\n",
       "      <th>26</th>\n",
       "      <td>2016-03</td>\n",
       "      <td>50276824.29</td>\n",
       "      <td>98</td>\n",
       "    </tr>\n",
       "    <tr>\n",
       "      <th>27</th>\n",
       "      <td>2016-04</td>\n",
       "      <td>26237321.88</td>\n",
       "      <td>99</td>\n",
       "    </tr>\n",
       "    <tr>\n",
       "      <th>28</th>\n",
       "      <td>2016-05</td>\n",
       "      <td>30250499.14</td>\n",
       "      <td>100</td>\n",
       "    </tr>\n",
       "  </tbody>\n",
       "</table>\n",
       "</div>"
      ],
      "text/plain": [
       "      month        sales  yearmonth_index\n",
       "24  2016-01  32759506.12               96\n",
       "25  2016-02  39785722.81               97\n",
       "26  2016-03  50276824.29               98\n",
       "27  2016-04  26237321.88               99\n",
       "28  2016-05  30250499.14              100"
      ]
     },
     "execution_count": 11,
     "metadata": {},
     "output_type": "execute_result"
    }
   ],
   "source": [
    "sales.head()"
   ]
  },
  {
   "cell_type": "code",
   "execution_count": 12,
   "metadata": {},
   "outputs": [],
   "source": [
    "from sklearn.model_selection import train_test_split"
   ]
  },
  {
   "cell_type": "code",
   "execution_count": 13,
   "metadata": {},
   "outputs": [
    {
     "data": {
      "text/plain": [
       "array([['2016-01', 32759506.12, 96],\n",
       "       ['2016-02', 39785722.81, 97],\n",
       "       ['2016-03', 50276824.29, 98],\n",
       "       ['2016-04', 26237321.88, 99],\n",
       "       ['2016-05', 30250499.14, 100],\n",
       "       ['2016-06', 29749449.46, 101],\n",
       "       ['2016-07', 32025318.8, 102],\n",
       "       ['2016-08', 32941641.3, 103],\n",
       "       ['2016-09', 35748878.52, 104],\n",
       "       ['2016-10', 30164746.83, 105],\n",
       "       ['2016-11', 34274031.26, 106],\n",
       "       ['2016-12', 36338915.55, 107],\n",
       "       ['2017-01', 27674972.18, 108],\n",
       "       ['2017-02', 32944442.35, 109],\n",
       "       ['2017-03', 46506448.47, 110],\n",
       "       ['2017-04', 25293815.1, 111],\n",
       "       ['2017-05', 31236282.5, 112],\n",
       "       ['2017-06', 31634984.95, 113],\n",
       "       ['2017-07', 32639539.85, 114],\n",
       "       ['2017-08', 35068387.0, 115],\n",
       "       ['2017-09', 33388983.08, 116],\n",
       "       ['2017-10', 33412599.99, 117],\n",
       "       ['2017-11', 31052163.06, 118],\n",
       "       ['2017-12', 33745391.2, 119],\n",
       "       ['2018-01', 32715036.21, 120],\n",
       "       ['2018-02', 35836815.97, 121],\n",
       "       ['2018-03', 42302378.31, 122],\n",
       "       ['2018-04', 26955761.07, 123],\n",
       "       ['2018-05', 31003964.24, 124],\n",
       "       ['2018-06', 29423692.55, 125],\n",
       "       ['2018-07', 29607438.19, 126],\n",
       "       ['2018-08', 32669211.58, 127],\n",
       "       ['2018-09', 29689334.78, 128],\n",
       "       ['2018-10', 32191406.21, 129],\n",
       "       ['2018-11', 31534181.62, 130],\n",
       "       ['2018-12', 35871357.69, 131],\n",
       "       ['2019-01', 31015035.47, 132],\n",
       "       ['2019-02', 33741300.04, 133],\n",
       "       ['2019-03', 42614918.15, 134],\n",
       "       ['2019-04', 26149536.66, 135],\n",
       "       ['2019-05', 27770592.29, 136],\n",
       "       ['2019-06', 27803166.03, 137],\n",
       "       ['2019-07', 31583768.66, 138],\n",
       "       ['2019-08', 30069055.14, 139],\n",
       "       ['2019-09', 32447605.4, 140],\n",
       "       ['2019-10', 29274550.82, 141]], dtype=object)"
      ]
     },
     "execution_count": 13,
     "metadata": {},
     "output_type": "execute_result"
    }
   ],
   "source": [
    "sales.values"
   ]
  },
  {
   "cell_type": "code",
   "execution_count": null,
   "metadata": {},
   "outputs": [],
   "source": []
  },
  {
   "cell_type": "code",
   "execution_count": 14,
   "metadata": {},
   "outputs": [],
   "source": [
    "X_train, X_test, y_train, y_test = train_test_split(sales['yearmonth_index'].values.reshape(-1,1), sales['sales'].values.reshape(-1,1), test_size=0.1)"
   ]
  },
  {
   "cell_type": "code",
   "execution_count": 15,
   "metadata": {},
   "outputs": [
    {
     "data": {
      "text/plain": [
       "(41, 1)"
      ]
     },
     "execution_count": 15,
     "metadata": {},
     "output_type": "execute_result"
    }
   ],
   "source": [
    "X_train.shape"
   ]
  },
  {
   "cell_type": "code",
   "execution_count": 16,
   "metadata": {},
   "outputs": [
    {
     "data": {
      "text/plain": [
       "(41, 1)"
      ]
     },
     "execution_count": 16,
     "metadata": {},
     "output_type": "execute_result"
    }
   ],
   "source": [
    "y_train.shape"
   ]
  },
  {
   "cell_type": "code",
   "execution_count": 17,
   "metadata": {},
   "outputs": [
    {
     "data": {
      "text/plain": [
       "array([[107],\n",
       "       [ 97],\n",
       "       [109],\n",
       "       [130],\n",
       "       [105]])"
      ]
     },
     "execution_count": 17,
     "metadata": {},
     "output_type": "execute_result"
    }
   ],
   "source": [
    "X_test"
   ]
  },
  {
   "cell_type": "code",
   "execution_count": 18,
   "metadata": {},
   "outputs": [
    {
     "data": {
      "text/plain": [
       "array([[36338915.55],\n",
       "       [39785722.81],\n",
       "       [32944442.35],\n",
       "       [31534181.62],\n",
       "       [30164746.83]])"
      ]
     },
     "execution_count": 18,
     "metadata": {},
     "output_type": "execute_result"
    }
   ],
   "source": [
    "y_test"
   ]
  },
  {
   "cell_type": "code",
   "execution_count": 19,
   "metadata": {},
   "outputs": [],
   "source": [
    "reg = LinearRegression().fit(X_train,  y_train)"
   ]
  },
  {
   "cell_type": "code",
   "execution_count": 20,
   "metadata": {},
   "outputs": [
    {
     "data": {
      "text/plain": [
       "0.036916370409926125"
      ]
     },
     "execution_count": 20,
     "metadata": {},
     "output_type": "execute_result"
    }
   ],
   "source": [
    "reg.score(X_train,y_train)"
   ]
  },
  {
   "cell_type": "code",
   "execution_count": 21,
   "metadata": {},
   "outputs": [
    {
     "data": {
      "text/plain": [
       "array([[-74192.20665309]])"
      ]
     },
     "execution_count": 21,
     "metadata": {},
     "output_type": "execute_result"
    }
   ],
   "source": [
    "reg.coef_"
   ]
  },
  {
   "cell_type": "code",
   "execution_count": 22,
   "metadata": {},
   "outputs": [
    {
     "data": {
      "text/plain": [
       "array([41473593.97146581])"
      ]
     },
     "execution_count": 22,
     "metadata": {},
     "output_type": "execute_result"
    }
   ],
   "source": [
    "reg.intercept_"
   ]
  },
  {
   "cell_type": "code",
   "execution_count": 23,
   "metadata": {},
   "outputs": [
    {
     "name": "stdout",
     "output_type": "stream",
     "text": [
      "[[36338915.55]\n",
      " [39785722.81]\n",
      " [32944442.35]\n",
      " [31534181.62]\n",
      " [30164746.83]]\n"
     ]
    }
   ],
   "source": [
    "print(y_test)"
   ]
  },
  {
   "cell_type": "code",
   "execution_count": 24,
   "metadata": {},
   "outputs": [],
   "source": [
    "predicts = reg.predict(X_test)"
   ]
  },
  {
   "cell_type": "code",
   "execution_count": 25,
   "metadata": {},
   "outputs": [],
   "source": [
    "overall_diff_perc = 0"
   ]
  },
  {
   "cell_type": "code",
   "execution_count": 26,
   "metadata": {},
   "outputs": [
    {
     "name": "stdout",
     "output_type": "stream",
     "text": [
      "Sales: [36338915.55], Predicted Sales: [33535027.85958523], Diff: [2803887.69041477], Diff Percent: [0.07715937]\n",
      "Sales: [39785722.81], Predicted Sales: [34276949.92611612], Diff: [5508772.88388388], Diff Percent: [0.13846105]\n",
      "Sales: [32944442.35], Predicted Sales: [33386643.44627905], Diff: [442201.09627904], Diff Percent: [0.01342263]\n",
      "Sales: [31534181.62], Predicted Sales: [31828607.10656416], Diff: [294425.48656416], Diff Percent: [0.00933671]\n",
      "Sales: [30164746.83], Predicted Sales: [33683412.2728914], Diff: [3518665.4428914], Diff Percent: [0.11664827]\n",
      "average diff percent:  [0.0710056]\n"
     ]
    }
   ],
   "source": [
    "for y, y_hat in zip(y_test, predicts):\n",
    "    overall_diff_perc += abs(y-y_hat)/y\n",
    "    print(\"Sales: {}, Predicted Sales: {}, Diff: {}, Diff Percent: {}\".format(y, y_hat, abs(y-y_hat), abs(y-y_hat)/y))\n",
    "print(\"average diff percent: \", overall_diff_perc/len(y_test))"
   ]
  },
  {
   "cell_type": "code",
   "execution_count": 27,
   "metadata": {},
   "outputs": [
    {
     "data": {
      "text/plain": [
       "array([[30938300.62672709]])"
      ]
     },
     "execution_count": 27,
     "metadata": {},
     "output_type": "execute_result"
    }
   ],
   "source": [
    "reg.predict(np.array([142]).reshape(-1,1))"
   ]
  },
  {
   "cell_type": "code",
   "execution_count": 28,
   "metadata": {},
   "outputs": [
    {
     "data": {
      "text/plain": [
       "<matplotlib.collections.PathCollection at 0x7f4fbc8f1240>"
      ]
     },
     "execution_count": 28,
     "metadata": {},
     "output_type": "execute_result"
    },
    {
     "data": {
      "image/png": "[encoded data removed]",
      "text/plain": [
       "<Figure size 432x288 with 1 Axes>"
      ]
     },
     "metadata": {
      "needs_background": "light"
     },
     "output_type": "display_data"
    }
   ],
   "source": [
    "plt.scatter(X_test, y_test)\n",
    "plt.scatter(X_test, predicts)"
   ]
  },
  {
   "cell_type": "markdown",
   "metadata": {},
   "source": [
    "## train model with lastest 12 months data"
   ]
  },
  {
   "cell_type": "code",
   "execution_count": 29,
   "metadata": {},
   "outputs": [
    {
     "data": {
      "text/plain": [
       "5"
      ]
     },
     "execution_count": 29,
     "metadata": {},
     "output_type": "execute_result"
    }
   ],
   "source": [
    "len(X_test)"
   ]
  },
  {
   "cell_type": "code",
   "execution_count": 30,
   "metadata": {},
   "outputs": [],
   "source": [
    "prev_month = '2019-07'\n",
    "last_year_pre_month = '2018-07'"
   ]
  },
  {
   "cell_type": "code",
   "execution_count": 31,
   "metadata": {},
   "outputs": [],
   "source": [
    "mask = (sales.month <= prev_month) & (sales.month >= last_year_pre_month)"
   ]
  },
  {
   "cell_type": "code",
   "execution_count": 32,
   "metadata": {},
   "outputs": [],
   "source": [
    "last_one_year_sales = sales[mask]"
   ]
  },
  {
   "cell_type": "code",
   "execution_count": 33,
   "metadata": {},
   "outputs": [],
   "source": [
    "X_train_12 = last_one_year_sales.yearmonth_index.values.reshape(-1,1)\n",
    "y_train_12 = last_one_year_sales.sales.values.reshape(-1,1)"
   ]
  },
  {
   "cell_type": "code",
   "execution_count": 34,
   "metadata": {},
   "outputs": [],
   "source": [
    "reg_last_one_year = LinearRegression().fit(X_train_12, y_train_12)"
   ]
  },
  {
   "cell_type": "code",
   "execution_count": 35,
   "metadata": {},
   "outputs": [
    {
     "data": {
      "text/plain": [
       "array([[-100227.5171978]])"
      ]
     },
     "execution_count": 35,
     "metadata": {},
     "output_type": "execute_result"
    }
   ],
   "source": [
    "reg_last_one_year.coef_"
   ]
  },
  {
   "cell_type": "code",
   "execution_count": 36,
   "metadata": {},
   "outputs": [
    {
     "data": {
      "text/plain": [
       "array([[30708590.01032967]])"
      ]
     },
     "execution_count": 36,
     "metadata": {},
     "output_type": "execute_result"
    }
   ],
   "source": [
    "reg_last_one_year.predict(np.array([142]).reshape(-1,1))"
   ]
  },
  {
   "cell_type": "code",
   "execution_count": 37,
   "metadata": {},
   "outputs": [],
   "source": [
    "prev_month = '2019-07'\n",
    "last_year_pre_month = '2018-07'"
   ]
  },
  {
   "cell_type": "code",
   "execution_count": 38,
   "metadata": {},
   "outputs": [],
   "source": [
    "predicts_12 = reg_last_one_year.predict(X_test)"
   ]
  },
  {
   "cell_type": "code",
   "execution_count": 39,
   "metadata": {},
   "outputs": [
    {
     "data": {
      "text/plain": [
       "<matplotlib.collections.PathCollection at 0x7f4fbc455668>"
      ]
     },
     "execution_count": 39,
     "metadata": {},
     "output_type": "execute_result"
    },
    {
     "data": {
      "image/png": "[encoded data removed]",
      "text/plain": [
       "<Figure size 432x288 with 1 Axes>"
      ]
     },
     "metadata": {
      "needs_background": "light"
     },
     "output_type": "display_data"
    }
   ],
   "source": [
    "plt.scatter(X_test, y_test)\n",
    "plt.scatter(X_test, predicts)\n",
    "plt.scatter(X_test, predicts_12)"
   ]
  },
  {
   "cell_type": "code",
   "execution_count": 40,
   "metadata": {},
   "outputs": [
    {
     "data": {
      "text/plain": [
       "array([[33535027.85958523],\n",
       "       [34276949.92611612],\n",
       "       [33386643.44627905],\n",
       "       [31828607.10656416],\n",
       "       [33683412.2728914 ]])"
      ]
     },
     "execution_count": 40,
     "metadata": {},
     "output_type": "execute_result"
    }
   ],
   "source": [
    "predicts"
   ]
  },
  {
   "cell_type": "code",
   "execution_count": 41,
   "metadata": {},
   "outputs": [
    {
     "data": {
      "text/plain": [
       "array([[34216553.11225275],\n",
       "       [35218828.28423077],\n",
       "       [34016098.07785714],\n",
       "       [31911320.2167033 ],\n",
       "       [34417008.14664835]])"
      ]
     },
     "execution_count": 41,
     "metadata": {},
     "output_type": "execute_result"
    }
   ],
   "source": [
    "predicts_12"
   ]
  },
  {
   "cell_type": "code",
   "execution_count": 42,
   "metadata": {},
   "outputs": [
    {
     "data": {
      "text/html": [
       "<div>\n",
       "<style scoped>\n",
       "    .dataframe tbody tr th:only-of-type {\n",
       "        vertical-align: middle;\n",
       "    }\n",
       "\n",
       "    .dataframe tbody tr th {\n",
       "        vertical-align: top;\n",
       "    }\n",
       "\n",
       "    .dataframe thead th {\n",
       "        text-align: right;\n",
       "    }\n",
       "</style>\n",
       "<table border=\"1\" class=\"dataframe\">\n",
       "  <thead>\n",
       "    <tr style=\"text-align: right;\">\n",
       "      <th></th>\n",
       "      <th>month</th>\n",
       "      <th>sales</th>\n",
       "      <th>yearmonth_index</th>\n",
       "    </tr>\n",
       "  </thead>\n",
       "  <tbody>\n",
       "    <tr>\n",
       "      <th>67</th>\n",
       "      <td>2019-08</td>\n",
       "      <td>30069055.14</td>\n",
       "      <td>139</td>\n",
       "    </tr>\n",
       "  </tbody>\n",
       "</table>\n",
       "</div>"
      ],
      "text/plain": [
       "      month        sales  yearmonth_index\n",
       "67  2019-08  30069055.14              139"
      ]
     },
     "execution_count": 42,
     "metadata": {},
     "output_type": "execute_result"
    }
   ],
   "source": [
    "sales[sales['month']=='2019-08']"
   ]
  },
  {
   "cell_type": "code",
   "execution_count": 43,
   "metadata": {},
   "outputs": [
    {
     "data": {
      "text/html": [
       "<div>\n",
       "<style scoped>\n",
       "    .dataframe tbody tr th:only-of-type {\n",
       "        vertical-align: middle;\n",
       "    }\n",
       "\n",
       "    .dataframe tbody tr th {\n",
       "        vertical-align: top;\n",
       "    }\n",
       "\n",
       "    .dataframe thead th {\n",
       "        text-align: right;\n",
       "    }\n",
       "</style>\n",
       "<table border=\"1\" class=\"dataframe\">\n",
       "  <thead>\n",
       "    <tr style=\"text-align: right;\">\n",
       "      <th></th>\n",
       "      <th>month</th>\n",
       "      <th>sales</th>\n",
       "      <th>yearmonth_index</th>\n",
       "    </tr>\n",
       "  </thead>\n",
       "  <tbody>\n",
       "    <tr>\n",
       "      <th>68</th>\n",
       "      <td>2019-09</td>\n",
       "      <td>32447605.4</td>\n",
       "      <td>140</td>\n",
       "    </tr>\n",
       "  </tbody>\n",
       "</table>\n",
       "</div>"
      ],
      "text/plain": [
       "      month       sales  yearmonth_index\n",
       "68  2019-09  32447605.4              140"
      ]
     },
     "execution_count": 43,
     "metadata": {},
     "output_type": "execute_result"
    }
   ],
   "source": [
    "sales[sales['month']=='2019-09']"
   ]
  },
  {
   "cell_type": "code",
   "execution_count": 44,
   "metadata": {},
   "outputs": [
    {
     "data": {
      "text/plain": [
       "139"
      ]
     },
     "execution_count": 44,
     "metadata": {},
     "output_type": "execute_result"
    }
   ],
   "source": [
    "yearmonth_to_num('2019-08')"
   ]
  },
  {
   "cell_type": "code",
   "execution_count": 45,
   "metadata": {},
   "outputs": [],
   "source": [
    "p1 = reg_last_one_year.predict(np.array([139, 140]).reshape(-1,1))"
   ]
  },
  {
   "cell_type": "code",
   "execution_count": 46,
   "metadata": {},
   "outputs": [],
   "source": [
    "p2 = reg.predict(np.array([139, 140]).reshape(-1,1))"
   ]
  },
  {
   "cell_type": "code",
   "execution_count": 47,
   "metadata": {},
   "outputs": [
    {
     "data": {
      "text/plain": [
       "array([[31085074.90430472],\n",
       "       [30997865.04237927]])"
      ]
     },
     "execution_count": 47,
     "metadata": {},
     "output_type": "execute_result"
    }
   ],
   "source": [
    "(p1 + p2) /2"
   ]
  },
  {
   "cell_type": "code",
   "execution_count": 48,
   "metadata": {},
   "outputs": [],
   "source": [
    "def predict_all(year_month):\n",
    "    year_month_index = [yearmonth_to_num(ym) for ym in year_month]\n",
    "    p = reg.predict(np.array([year_month_index]).reshape(-1,1))\n",
    "    return p.flatten()"
   ]
  },
  {
   "cell_type": "code",
   "execution_count": 49,
   "metadata": {},
   "outputs": [],
   "source": [
    "def predict_12(year_month):\n",
    "    year_month_index = [yearmonth_to_num(ym) for ym in year_month]\n",
    "    p = reg_last_one_year.predict(np.array([year_month_index]).reshape(-1,1))\n",
    "    return p.flatten()"
   ]
  },
  {
   "cell_type": "code",
   "execution_count": 50,
   "metadata": {},
   "outputs": [],
   "source": [
    "def predict_avg(year_month):\n",
    "    year_month_index = [yearmonth_to_num(ym) for ym in year_month]\n",
    "    p1 = reg_last_one_year.predict(np.array([year_month_index]).reshape(-1,1))\n",
    "    p2 = reg.predict(np.array([year_month_index]).reshape(-1,1))\n",
    "    avg = (p1.flatten() + p2.flatten()) / 2\n",
    "    return avg"
   ]
  },
  {
   "cell_type": "code",
   "execution_count": 51,
   "metadata": {},
   "outputs": [
    {
     "data": {
      "text/plain": [
       "array([30997865.04237927, 30910655.18045383])"
      ]
     },
     "execution_count": 51,
     "metadata": {},
     "output_type": "execute_result"
    }
   ],
   "source": [
    "predict_avg(['2019-09','2019-10'])"
   ]
  },
  {
   "cell_type": "code",
   "execution_count": 52,
   "metadata": {},
   "outputs": [
    {
     "data": {
      "text/plain": [
       "46"
      ]
     },
     "execution_count": 52,
     "metadata": {},
     "output_type": "execute_result"
    }
   ],
   "source": [
    "len(sales['sales'].values)"
   ]
  },
  {
   "cell_type": "code",
   "execution_count": 53,
   "metadata": {},
   "outputs": [
    {
     "data": {
      "text/plain": [
       "<matplotlib.legend.Legend at 0x7f4fbc889f98>"
      ]
     },
     "execution_count": 53,
     "metadata": {},
     "output_type": "execute_result"
    },
    {
     "data": {
      "image/png": "[encoded data removed]",
      "text/plain": [
       "<Figure size 1440x720 with 1 Axes>"
      ]
     },
     "metadata": {
      "needs_background": "light"
     },
     "output_type": "display_data"
    }
   ],
   "source": [
    "plt.figure(figsize=(20, 10))\n",
    "plt.title(\"Regression Comparasion\")\n",
    "plt.scatter(sales['month'], sales['sales'])\n",
    "plt.scatter(sales['month'], predict_all(sales['month'].values), label='Overall data')\n",
    "plt.scatter(sales['month'], predict_12(sales['month'].values), label=\"latest 12 monthes\")\n",
    "plt.scatter(sales['month'], predict_avg(sales['month'].values), label=\"Average(overall + lastest 12 monthes)\")\n",
    "plt.legend()"
   ]
  },
  {
   "cell_type": "markdown",
   "metadata": {},
   "source": [
    "## prediction with optimized train set"
   ]
  },
  {
   "cell_type": "code",
   "execution_count": 54,
   "metadata": {},
   "outputs": [
    {
     "data": {
      "text/plain": [
       "(array([[136],\n",
       "        [126],\n",
       "        [117],\n",
       "        [128],\n",
       "        [133],\n",
       "        [103],\n",
       "        [104],\n",
       "        [138],\n",
       "        [119],\n",
       "        [127],\n",
       "        [ 96],\n",
       "        [114],\n",
       "        [113],\n",
       "        [118],\n",
       "        [116],\n",
       "        [121],\n",
       "        [101],\n",
       "        [125],\n",
       "        [129],\n",
       "        [102],\n",
       "        [106],\n",
       "        [ 98],\n",
       "        [140],\n",
       "        [100],\n",
       "        [135],\n",
       "        [112],\n",
       "        [124],\n",
       "        [134],\n",
       "        [131],\n",
       "        [ 99],\n",
       "        [115],\n",
       "        [141],\n",
       "        [108],\n",
       "        [110],\n",
       "        [137],\n",
       "        [122],\n",
       "        [120],\n",
       "        [111],\n",
       "        [123],\n",
       "        [139],\n",
       "        [132]]), array([[107],\n",
       "        [ 97],\n",
       "        [109],\n",
       "        [130],\n",
       "        [105]]), array([[27770592.29],\n",
       "        [29607438.19],\n",
       "        [33412599.99],\n",
       "        [29689334.78],\n",
       "        [33741300.04],\n",
       "        [32941641.3 ],\n",
       "        [35748878.52],\n",
       "        [31583768.66],\n",
       "        [33745391.2 ],\n",
       "        [32669211.58],\n",
       "        [32759506.12],\n",
       "        [32639539.85],\n",
       "        [31634984.95],\n",
       "        [31052163.06],\n",
       "        [33388983.08],\n",
       "        [35836815.97],\n",
       "        [29749449.46],\n",
       "        [29423692.55],\n",
       "        [32191406.21],\n",
       "        [32025318.8 ],\n",
       "        [34274031.26],\n",
       "        [50276824.29],\n",
       "        [32447605.4 ],\n",
       "        [30250499.14],\n",
       "        [26149536.66],\n",
       "        [31236282.5 ],\n",
       "        [31003964.24],\n",
       "        [42614918.15],\n",
       "        [35871357.69],\n",
       "        [26237321.88],\n",
       "        [35068387.  ],\n",
       "        [29274550.82],\n",
       "        [27674972.18],\n",
       "        [46506448.47],\n",
       "        [27803166.03],\n",
       "        [42302378.31],\n",
       "        [32715036.21],\n",
       "        [25293815.1 ],\n",
       "        [26955761.07],\n",
       "        [30069055.14],\n",
       "        [31015035.47]]), array([[36338915.55],\n",
       "        [39785722.81],\n",
       "        [32944442.35],\n",
       "        [31534181.62],\n",
       "        [30164746.83]]))"
      ]
     },
     "execution_count": 54,
     "metadata": {},
     "output_type": "execute_result"
    }
   ],
   "source": [
    "X_train, X_test, y_train, y_test"
   ]
  },
  {
   "cell_type": "code",
   "execution_count": 55,
   "metadata": {},
   "outputs": [],
   "source": [
    "twisted_param = np.sqrt(X_train)"
   ]
  },
  {
   "cell_type": "code",
   "execution_count": 56,
   "metadata": {},
   "outputs": [],
   "source": [
    "twisted_param1 =  np.sqrt(twisted_param)"
   ]
  },
  {
   "cell_type": "code",
   "execution_count": 57,
   "metadata": {},
   "outputs": [],
   "source": [
    "X_train_optimal = np.append(X_train, twisted_param, axis=1)"
   ]
  },
  {
   "cell_type": "code",
   "execution_count": null,
   "metadata": {},
   "outputs": [],
   "source": []
  },
  {
   "cell_type": "code",
   "execution_count": 58,
   "metadata": {},
   "outputs": [],
   "source": [
    "#X_train_optimal = np.append(X_train, twisted_param1, axis=1)"
   ]
  },
  {
   "cell_type": "code",
   "execution_count": 59,
   "metadata": {},
   "outputs": [],
   "source": [
    "Reg_optimal = LinearRegression().fit(X_train_optimal, y_train)"
   ]
  },
  {
   "cell_type": "code",
   "execution_count": 60,
   "metadata": {},
   "outputs": [],
   "source": [
    "def predict_optimal(year_month):\n",
    "    year_month_index = [yearmonth_to_num(ym) for ym in year_month]\n",
    "    year_month_index = np.array(year_month_index).reshape(-1,1)\n",
    "    year_month_index_twisted = np.log(year_month_index);\n",
    "    #year_month_index_twisted1 = np.sqrt(year_month_index_twisted);\n",
    "    year_month_optimal = np.append(year_month_index, year_month_index_twisted, axis=1)\n",
    "    #year_month_optimal = np.append(year_month_index, year_month_index_twisted1, axis=1)\n",
    "    p = Reg_optimal.predict(year_month_optimal)\n",
    "    return p.flatten()\n",
    "    "
   ]
  },
  {
   "cell_type": "code",
   "execution_count": null,
   "metadata": {},
   "outputs": [],
   "source": []
  },
  {
   "cell_type": "code",
   "execution_count": 61,
   "metadata": {},
   "outputs": [
    {
     "data": {
      "text/plain": [
       "<matplotlib.legend.Legend at 0x7f4fbc785cc0>"
      ]
     },
     "execution_count": 61,
     "metadata": {},
     "output_type": "execute_result"
    },
    {
     "data": {
      "image/png": "[encoded data removed]",
      "text/plain": [
       "<Figure size 1440x720 with 1 Axes>"
      ]
     },
     "metadata": {
      "needs_background": "light"
     },
     "output_type": "display_data"
    }
   ],
   "source": [
    "plt.figure(figsize=(20, 10))\n",
    "plt.title(\"Regression Comparasion\")\n",
    "plt.scatter(sales['month'], sales['sales'])\n",
    "plt.scatter(sales['month'], predict_all(sales['month'].values), label='Overall data')\n",
    "plt.scatter(sales['month'], predict_12(sales['month'].values), label=\"latest 12 monthes\")\n",
    "plt.scatter(sales['month'], predict_avg(sales['month'].values), label=\"Average(overall + lastest 12 monthes)\")\n",
    "#plt.scatter(sales['month'], predict_optimal(sales['month'].values), label=\"Average(overall) Optimal\")\n",
    "plt.legend()"
   ]
  },
  {
   "cell_type": "markdown",
   "metadata": {},
   "source": [
    "## Use year and month params"
   ]
  },
  {
   "cell_type": "code",
   "execution_count": 62,
   "metadata": {},
   "outputs": [],
   "source": [
    "def make_params(year_months):\n",
    "    params = [ym.split('-') for ym in year_months]\n",
    "    years = [int(ym[0]) for ym in params ]\n",
    "    months = [int(ym[1]) for ym in params ]\n",
    "    return years, months"
   ]
  },
  {
   "cell_type": "code",
   "execution_count": 63,
   "metadata": {},
   "outputs": [],
   "source": [
    "years, months = make_params(sales['month'])"
   ]
  },
  {
   "cell_type": "code",
   "execution_count": 64,
   "metadata": {},
   "outputs": [],
   "source": [
    "sales['y'] = years\n",
    "sales['m'] = months"
   ]
  },
  {
   "cell_type": "code",
   "execution_count": null,
   "metadata": {},
   "outputs": [],
   "source": []
  },
  {
   "cell_type": "code",
   "execution_count": 65,
   "metadata": {},
   "outputs": [],
   "source": [
    "X_train, X_test, y_train, y_test = train_test_split(sales, sales['sales'].values.reshape(-1,1), test_size=0.3)"
   ]
  },
  {
   "cell_type": "code",
   "execution_count": 66,
   "metadata": {},
   "outputs": [],
   "source": [
    "X_train_new = X_train.filter(['y', 'm'], axis=1).values\n",
    "X_test_new =  X_test.filter(['y','m'], axis=1).values"
   ]
  },
  {
   "cell_type": "code",
   "execution_count": 67,
   "metadata": {},
   "outputs": [],
   "source": [
    "X_train_new1 = np.append(X_train_new, np.sqrt(X_train.filter(['y']).values), axis=1)"
   ]
  },
  {
   "cell_type": "code",
   "execution_count": 87,
   "metadata": {},
   "outputs": [
    {
     "data": {
      "text/plain": [
       "array([[2016,    1],\n",
       "       [2016,    2],\n",
       "       [2016,    3],\n",
       "       [2016,    4],\n",
       "       [2016,    5],\n",
       "       [2016,    6],\n",
       "       [2016,    7],\n",
       "       [2016,    8],\n",
       "       [2016,    9],\n",
       "       [2016,   10],\n",
       "       [2016,   11],\n",
       "       [2016,   12],\n",
       "       [2017,    1],\n",
       "       [2017,    2],\n",
       "       [2017,    3],\n",
       "       [2017,    4],\n",
       "       [2017,    5],\n",
       "       [2017,    6],\n",
       "       [2017,    7],\n",
       "       [2017,    8],\n",
       "       [2017,    9],\n",
       "       [2017,   10],\n",
       "       [2017,   11],\n",
       "       [2017,   12],\n",
       "       [2018,    1],\n",
       "       [2018,    2],\n",
       "       [2018,    3],\n",
       "       [2018,    4],\n",
       "       [2018,    5],\n",
       "       [2018,    6],\n",
       "       [2018,    7],\n",
       "       [2018,    8],\n",
       "       [2018,    9],\n",
       "       [2018,   10],\n",
       "       [2018,   11],\n",
       "       [2018,   12],\n",
       "       [2019,    1],\n",
       "       [2019,    2],\n",
       "       [2019,    3],\n",
       "       [2019,    4],\n",
       "       [2019,    5],\n",
       "       [2019,    6],\n",
       "       [2019,    7],\n",
       "       [2019,    8],\n",
       "       [2019,    9],\n",
       "       [2019,   10]])"
      ]
     },
     "execution_count": 87,
     "metadata": {},
     "output_type": "execute_result"
    }
   ],
   "source": [
    "X_train_new"
   ]
  },
  {
   "cell_type": "code",
   "execution_count": 68,
   "metadata": {},
   "outputs": [],
   "source": [
    "X_train_new1  = np.append(X_train_new, np.sqrt(X_train.filter(['y']).values), axis=1)"
   ]
  },
  {
   "cell_type": "code",
   "execution_count": 69,
   "metadata": {},
   "outputs": [],
   "source": [
    "Reg_params = LinearRegression().fit(X_train_new1, y_train)"
   ]
  },
  {
   "cell_type": "code",
   "execution_count": null,
   "metadata": {},
   "outputs": [],
   "source": []
  },
  {
   "cell_type": "code",
   "execution_count": 70,
   "metadata": {},
   "outputs": [],
   "source": [
    "def predict_params(sales):\n",
    "\n",
    "    X_train_new = sales.filter(['y', 'm'], axis=1).values\n",
    "    X_params_all = np.append(X_train_new, np.sqrt(sales.filter(['y']).values), axis=1)\n",
    "    p = Reg_params.predict(X_params_all)\n",
    "    return p.flatten()\n",
    "    "
   ]
  },
  {
   "cell_type": "code",
   "execution_count": 71,
   "metadata": {},
   "outputs": [
    {
     "data": {
      "text/plain": [
       "array([[2.01600000e+03, 1.00000000e+00, 4.48998886e+01],\n",
       "       [2.01600000e+03, 2.00000000e+00, 4.48998886e+01],\n",
       "       [2.01600000e+03, 3.00000000e+00, 4.48998886e+01],\n",
       "       [2.01600000e+03, 4.00000000e+00, 4.48998886e+01],\n",
       "       [2.01600000e+03, 5.00000000e+00, 4.48998886e+01],\n",
       "       [2.01600000e+03, 6.00000000e+00, 4.48998886e+01],\n",
       "       [2.01600000e+03, 7.00000000e+00, 4.48998886e+01],\n",
       "       [2.01600000e+03, 8.00000000e+00, 4.48998886e+01],\n",
       "       [2.01600000e+03, 9.00000000e+00, 4.48998886e+01],\n",
       "       [2.01600000e+03, 1.00000000e+01, 4.48998886e+01],\n",
       "       [2.01600000e+03, 1.10000000e+01, 4.48998886e+01],\n",
       "       [2.01600000e+03, 1.20000000e+01, 4.48998886e+01],\n",
       "       [2.01700000e+03, 1.00000000e+00, 4.49110231e+01],\n",
       "       [2.01700000e+03, 2.00000000e+00, 4.49110231e+01],\n",
       "       [2.01700000e+03, 3.00000000e+00, 4.49110231e+01],\n",
       "       [2.01700000e+03, 4.00000000e+00, 4.49110231e+01],\n",
       "       [2.01700000e+03, 5.00000000e+00, 4.49110231e+01],\n",
       "       [2.01700000e+03, 6.00000000e+00, 4.49110231e+01],\n",
       "       [2.01700000e+03, 7.00000000e+00, 4.49110231e+01],\n",
       "       [2.01700000e+03, 8.00000000e+00, 4.49110231e+01],\n",
       "       [2.01700000e+03, 9.00000000e+00, 4.49110231e+01],\n",
       "       [2.01700000e+03, 1.00000000e+01, 4.49110231e+01],\n",
       "       [2.01700000e+03, 1.10000000e+01, 4.49110231e+01],\n",
       "       [2.01700000e+03, 1.20000000e+01, 4.49110231e+01],\n",
       "       [2.01800000e+03, 1.00000000e+00, 4.49221549e+01],\n",
       "       [2.01800000e+03, 2.00000000e+00, 4.49221549e+01],\n",
       "       [2.01800000e+03, 3.00000000e+00, 4.49221549e+01],\n",
       "       [2.01800000e+03, 4.00000000e+00, 4.49221549e+01],\n",
       "       [2.01800000e+03, 5.00000000e+00, 4.49221549e+01],\n",
       "       [2.01800000e+03, 6.00000000e+00, 4.49221549e+01],\n",
       "       [2.01800000e+03, 7.00000000e+00, 4.49221549e+01],\n",
       "       [2.01800000e+03, 8.00000000e+00, 4.49221549e+01],\n",
       "       [2.01800000e+03, 9.00000000e+00, 4.49221549e+01],\n",
       "       [2.01800000e+03, 1.00000000e+01, 4.49221549e+01],\n",
       "       [2.01800000e+03, 1.10000000e+01, 4.49221549e+01],\n",
       "       [2.01800000e+03, 1.20000000e+01, 4.49221549e+01],\n",
       "       [2.01900000e+03, 1.00000000e+00, 4.49332839e+01],\n",
       "       [2.01900000e+03, 2.00000000e+00, 4.49332839e+01],\n",
       "       [2.01900000e+03, 3.00000000e+00, 4.49332839e+01],\n",
       "       [2.01900000e+03, 4.00000000e+00, 4.49332839e+01],\n",
       "       [2.01900000e+03, 5.00000000e+00, 4.49332839e+01],\n",
       "       [2.01900000e+03, 6.00000000e+00, 4.49332839e+01],\n",
       "       [2.01900000e+03, 7.00000000e+00, 4.49332839e+01],\n",
       "       [2.01900000e+03, 8.00000000e+00, 4.49332839e+01],\n",
       "       [2.01900000e+03, 9.00000000e+00, 4.49332839e+01],\n",
       "       [2.01900000e+03, 1.00000000e+01, 4.49332839e+01]])"
      ]
     },
     "execution_count": 71,
     "metadata": {},
     "output_type": "execute_result"
    }
   ],
   "source": [
    "X_train_new = sales.filter(['y', 'm'], axis=1).values\n",
    "np.append(X_train_new, np.sqrt(sales.filter(['y']).values), axis=1)\n"
   ]
  },
  {
   "cell_type": "code",
   "execution_count": 72,
   "metadata": {},
   "outputs": [
    {
     "data": {
      "text/plain": [
       "<matplotlib.legend.Legend at 0x7f4fbc65cdd8>"
      ]
     },
     "execution_count": 72,
     "metadata": {},
     "output_type": "execute_result"
    },
    {
     "data": {
      "image/png": "[encoded data removed]",
      "text/plain": [
       "<Figure size 1440x720 with 1 Axes>"
      ]
     },
     "metadata": {
      "needs_background": "light"
     },
     "output_type": "display_data"
    }
   ],
   "source": [
    "plt.figure(figsize=(20, 10))\n",
    "plt.title(\"Regression Comparasion\")\n",
    "plt.scatter(sales['month'], sales['sales'])\n",
    "\n",
    "plt.scatter(sales['month'], predict_all(sales['month'].values), label='Overall data')\n",
    "plt.scatter(sales['month'], predict_12(sales['month'].values), label=\"latest 12 monthes\")\n",
    "plt.scatter(sales['month'], predict_avg(sales['month'].values), label=\"Average(overall + lastest 12 monthes)\")\n",
    "#plt.scatter(sales['month'], predict_optimal(sales['month'].values), label=\"Average(overall) Optimal\")\n",
    "\n",
    "plt.scatter(sales['month'], predict_params(sales), label=\"Year, Month as params\")\n",
    "plt.legend()"
   ]
  },
  {
   "cell_type": "markdown",
   "metadata": {},
   "source": [
    "## SVM "
   ]
  },
  {
   "cell_type": "code",
   "execution_count": 73,
   "metadata": {},
   "outputs": [],
   "source": [
    "svm_X_train = X_train.filter(['y', 'm']).values\n",
    "svm_y_train = X_train.filter(['sales']).values"
   ]
  },
  {
   "cell_type": "code",
   "execution_count": 74,
   "metadata": {},
   "outputs": [],
   "source": [
    "svm_X_test = X_test.filter(['y', 'm']).values"
   ]
  },
  {
   "cell_type": "code",
   "execution_count": 75,
   "metadata": {},
   "outputs": [
    {
     "data": {
      "text/plain": [
       "array([[2017,    8],\n",
       "       [2019,    9],\n",
       "       [2016,    8],\n",
       "       [2018,   11],\n",
       "       [2018,    6],\n",
       "       [2017,    6],\n",
       "       [2017,   12],\n",
       "       [2016,   12],\n",
       "       [2016,    7],\n",
       "       [2019,    6],\n",
       "       [2016,   11],\n",
       "       [2018,   10],\n",
       "       [2019,    8],\n",
       "       [2019,    1]])"
      ]
     },
     "execution_count": 75,
     "metadata": {},
     "output_type": "execute_result"
    }
   ],
   "source": [
    "svm_X_test"
   ]
  },
  {
   "cell_type": "code",
   "execution_count": 76,
   "metadata": {},
   "outputs": [
    {
     "data": {
      "text/plain": [
       "array([[7.60936654, 2.07944154],\n",
       "       [7.61035762, 2.19722458],\n",
       "       [7.60887063, 2.07944154],\n",
       "       [7.6098622 , 2.39789527],\n",
       "       [7.6098622 , 1.79175947],\n",
       "       [7.60936654, 1.79175947],\n",
       "       [7.60936654, 2.48490665],\n",
       "       [7.60887063, 2.48490665],\n",
       "       [7.60887063, 1.94591015],\n",
       "       [7.61035762, 1.79175947],\n",
       "       [7.60887063, 2.39789527],\n",
       "       [7.6098622 , 2.30258509],\n",
       "       [7.61035762, 2.07944154],\n",
       "       [7.61035762, 0.        ]])"
      ]
     },
     "execution_count": 76,
     "metadata": {},
     "output_type": "execute_result"
    }
   ],
   "source": [
    "np.log(X_test.filter(['y', 'm']).values)"
   ]
  },
  {
   "cell_type": "code",
   "execution_count": 77,
   "metadata": {
    "scrolled": true
   },
   "outputs": [
    {
     "data": {
      "text/plain": [
       "array([30164746.83])"
      ]
     },
     "execution_count": 77,
     "metadata": {},
     "output_type": "execute_result"
    }
   ],
   "source": [
    "y"
   ]
  },
  {
   "cell_type": "code",
   "execution_count": 78,
   "metadata": {},
   "outputs": [
    {
     "name": "stderr",
     "output_type": "stream",
     "text": [
      "/home/weiliang/anaconda3/lib/python3.7/site-packages/sklearn/utils/validation.py:595: DataConversionWarning: Data with input dtype int64 was converted to float64 by StandardScaler.\n",
      "  warnings.warn(msg, DataConversionWarning)\n",
      "/home/weiliang/anaconda3/lib/python3.7/site-packages/sklearn/utils/validation.py:595: DataConversionWarning: Data with input dtype int64 was converted to float64 by StandardScaler.\n",
      "  warnings.warn(msg, DataConversionWarning)\n",
      "/home/weiliang/anaconda3/lib/python3.7/site-packages/sklearn/model_selection/_search.py:841: DeprecationWarning: The default of the `iid` parameter will change from True to False in version 0.22 and will be removed in 0.24. This will change numeric results when test-set sizes are unequal.\n",
      "  DeprecationWarning)\n"
     ]
    }
   ],
   "source": [
    "import time\n",
    "from sklearn.svm import SVR\n",
    "from sklearn.model_selection import GridSearchCV\n",
    "from sklearn.model_selection import learning_curve\n",
    "from sklearn.kernel_ridge import KernelRidge\n",
    "from sklearn.preprocessing import StandardScaler\n",
    "#clf = svm.SVR(kernel='rbf', C=100, gamma=0.1, epsilon=.1)\n",
    "#clf = SVR(kernel='rbf', C=100, gamma=1e-8, degree=3, epsilon=.1,coef0=1)\n",
    "#clf.fit(test, svm_y_train) \n",
    "\n",
    "svr = GridSearchCV(SVR(kernel='rbf', gamma=0.1, epsilon=.00001), cv=5,\n",
    "                   param_grid={\"C\": [1e0, 1e1, 1e2, 1e3, 1e4],\n",
    "                               \"gamma\": np.logspace(-1, 2, 10)})\n",
    "#svm_X_train = np.log(svm_X_train)\n",
    "sc_x = StandardScaler()\n",
    "sc_y = StandardScaler()\n",
    "x = sc_x.fit_transform(svm_X_train)\n",
    "y = sc_y.fit_transform(svm_y_train)\n",
    "\n",
    "t0 = time.time()\n",
    "svr.fit(x, y.flatten())\n",
    "svr_fit = time.time() - t0\n",
    "\n"
   ]
  },
  {
   "cell_type": "code",
   "execution_count": 85,
   "metadata": {},
   "outputs": [],
   "source": [
    "def predict_svm(sales):\n",
    "    X_train_new = sales.filter(['y', 'm'], axis=1).values\n",
    "    #test = np.log(X_train_new)\n",
    "    X_train_new = sc_x.fit_transform(X_train_new)\n",
    "    p = svr.predict(X_train_new)\n",
    "    return p.flatten()\n",
    "    "
   ]
  },
  {
   "cell_type": "code",
   "execution_count": null,
   "metadata": {},
   "outputs": [],
   "source": []
  },
  {
   "cell_type": "code",
   "execution_count": 80,
   "metadata": {},
   "outputs": [],
   "source": [
    "def predict_svm_test(test_X):\n",
    "    X_train_new = sc_x.fit_transform(test_X)\n",
    "    p = svr.predict(X_train_new)\n",
    "    return p.flatten()\n",
    "    "
   ]
  },
  {
   "cell_type": "code",
   "execution_count": 81,
   "metadata": {},
   "outputs": [
    {
     "data": {
      "text/plain": [
       "array([32759506.12, 39785722.81, 50276824.29, 26237321.88, 30250499.14,\n",
       "       29749449.46, 32025318.8 , 32941641.3 , 35748878.52, 30164746.83,\n",
       "       34274031.26, 36338915.55, 27674972.18, 32944442.35, 46506448.47,\n",
       "       25293815.1 , 31236282.5 , 31634984.95, 32639539.85, 35068387.  ,\n",
       "       33388983.08, 33412599.99, 31052163.06, 33745391.2 , 32715036.21,\n",
       "       35836815.97, 42302378.31, 26955761.07, 31003964.24, 29423692.55,\n",
       "       29607438.19, 32669211.58, 29689334.78, 32191406.21, 31534181.62,\n",
       "       35871357.69, 31015035.47, 33741300.04, 42614918.15, 26149536.66,\n",
       "       27770592.29, 27803166.03, 31583768.66, 30069055.14, 32447605.4 ,\n",
       "       29274550.82])"
      ]
     },
     "execution_count": 81,
     "metadata": {},
     "output_type": "execute_result"
    }
   ],
   "source": [
    "sales['sales'].values"
   ]
  },
  {
   "cell_type": "code",
   "execution_count": null,
   "metadata": {},
   "outputs": [],
   "source": []
  },
  {
   "cell_type": "code",
   "execution_count": 82,
   "metadata": {},
   "outputs": [
    {
     "name": "stderr",
     "output_type": "stream",
     "text": [
      "/home/weiliang/anaconda3/lib/python3.7/site-packages/sklearn/utils/validation.py:595: DataConversionWarning: Data with input dtype int64 was converted to float64 by StandardScaler.\n",
      "  warnings.warn(msg, DataConversionWarning)\n",
      "/home/weiliang/anaconda3/lib/python3.7/site-packages/sklearn/utils/validation.py:595: DataConversionWarning: Data with input dtype int64 was converted to float64 by StandardScaler.\n",
      "  warnings.warn(msg, DataConversionWarning)\n",
      "/home/weiliang/anaconda3/lib/python3.7/site-packages/sklearn/utils/validation.py:595: DataConversionWarning: Data with input dtype int64 was converted to float64 by StandardScaler.\n",
      "  warnings.warn(msg, DataConversionWarning)\n",
      "/home/weiliang/anaconda3/lib/python3.7/site-packages/sklearn/utils/validation.py:595: DataConversionWarning: Data with input dtype int64 was converted to float64 by StandardScaler.\n",
      "  warnings.warn(msg, DataConversionWarning)\n"
     ]
    },
    {
     "data": {
      "text/plain": [
       "<matplotlib.legend.Legend at 0x7f4fbc5c6ef0>"
      ]
     },
     "execution_count": 82,
     "metadata": {},
     "output_type": "execute_result"
    },
    {
     "data": {
      "image/png": "[encoded data removed]",
      "text/plain": [
       "<Figure size 3600x720 with 1 Axes>"
      ]
     },
     "metadata": {
      "needs_background": "light"
     },
     "output_type": "display_data"
    }
   ],
   "source": [
    "plt.figure(figsize=(50, 10))\n",
    "plt.title(\"Regression Comparasion\")\n",
    "plt.scatter(sales['month'], sc_y.fit_transform(sales['sales'].values.reshape(-1,1)))\n",
    "plt.plot(sales['month'], predict_svm(sales), label='Overall data(SVM)')\n",
    "plt.scatter(X_test['month'], predict_svm_test(svm_X_test), label='Test Data')\n",
    "plt.legend()"
   ]
  },
  {
   "cell_type": "markdown",
   "metadata": {},
   "source": [
    "## KernelRidge\n"
   ]
  },
  {
   "cell_type": "code",
   "execution_count": 83,
   "metadata": {},
   "outputs": [
    {
     "data": {
      "text/plain": [
       "KernelRidge(alpha=1.0, coef0=1, degree=3, gamma=None, kernel='linear',\n",
       "      kernel_params=None)"
      ]
     },
     "execution_count": 83,
     "metadata": {},
     "output_type": "execute_result"
    }
   ],
   "source": [
    "from sklearn.kernel_ridge import KernelRidge\n",
    "n_samples, n_features = 10, 5\n",
    "rng = np.random.RandomState(0)\n",
    "y = rng.randn(n_samples)\n",
    "X = rng.randn(n_samples, n_features)\n",
    "clf = KernelRidge(alpha=1.0)\n",
    "clf.fit(X, y) "
   ]
  },
  {
   "cell_type": "code",
   "execution_count": null,
   "metadata": {},
   "outputs": [],
   "source": []
  }
 ],
 "metadata": {
  "kernelspec": {
   "display_name": "Python 3",
   "language": "python",
   "name": "python3"
  },
  "language_info": {
   "codemirror_mode": {
    "name": "ipython",
    "version": 3
   },
   "file_extension": ".py",
   "mimetype": "text/x-python",
   "name": "python",
   "nbconvert_exporter": "python",
   "pygments_lexer": "ipython3",
   "version": "3.7.3"
  }
 },
 "nbformat": 4,
 "nbformat_minor": 2
}
