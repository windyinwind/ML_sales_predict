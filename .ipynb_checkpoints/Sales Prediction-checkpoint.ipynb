{
 "cells": [
  {
   "cell_type": "code",
   "execution_count": 100,
   "metadata": {},
   "outputs": [],
   "source": [
    "import numpy as np\n",
    "import pandas as pd\n",
    "%matplotlib inline\n",
    "import matplotlib.pyplot as plt\n",
    "from sklearn.linear_model import LinearRegression"
   ]
  },
  {
   "cell_type": "code",
   "execution_count": 101,
   "metadata": {},
   "outputs": [],
   "source": [
    "sales = pd.read_csv('/home/weiliang/Downloads/sales.csv')"
   ]
  },
  {
   "cell_type": "code",
   "execution_count": 102,
   "metadata": {},
   "outputs": [
    {
     "data": {
      "text/html": [
       "<div>\n",
       "<style scoped>\n",
       "    .dataframe tbody tr th:only-of-type {\n",
       "        vertical-align: middle;\n",
       "    }\n",
       "\n",
       "    .dataframe tbody tr th {\n",
       "        vertical-align: top;\n",
       "    }\n",
       "\n",
       "    .dataframe thead th {\n",
       "        text-align: right;\n",
       "    }\n",
       "</style>\n",
       "<table border=\"1\" class=\"dataframe\">\n",
       "  <thead>\n",
       "    <tr style=\"text-align: right;\">\n",
       "      <th></th>\n",
       "      <th>month</th>\n",
       "      <th>sales</th>\n",
       "    </tr>\n",
       "  </thead>\n",
       "  <tbody>\n",
       "    <tr>\n",
       "      <th>0</th>\n",
       "      <td>2008-01</td>\n",
       "      <td>7615449</td>\n",
       "    </tr>\n",
       "    <tr>\n",
       "      <th>1</th>\n",
       "      <td>2008-02</td>\n",
       "      <td>8568396</td>\n",
       "    </tr>\n",
       "    <tr>\n",
       "      <th>2</th>\n",
       "      <td>2008-03</td>\n",
       "      <td>8819950</td>\n",
       "    </tr>\n",
       "    <tr>\n",
       "      <th>3</th>\n",
       "      <td>2008-04</td>\n",
       "      <td>9747502</td>\n",
       "    </tr>\n",
       "    <tr>\n",
       "      <th>4</th>\n",
       "      <td>2008-05</td>\n",
       "      <td>8009360</td>\n",
       "    </tr>\n",
       "  </tbody>\n",
       "</table>\n",
       "</div>"
      ],
      "text/plain": [
       "     month    sales\n",
       "0  2008-01  7615449\n",
       "1  2008-02  8568396\n",
       "2  2008-03  8819950\n",
       "3  2008-04  9747502\n",
       "4  2008-05  8009360"
      ]
     },
     "execution_count": 102,
     "metadata": {},
     "output_type": "execute_result"
    }
   ],
   "source": [
    "sales.head()"
   ]
  },
  {
   "cell_type": "code",
   "execution_count": 103,
   "metadata": {},
   "outputs": [
    {
     "data": {
      "image/png": "[encoded data removed]",
      "text/plain": [
       "<Figure size 432x288 with 1 Axes>"
      ]
     },
     "metadata": {
      "needs_background": "light"
     },
     "output_type": "display_data"
    }
   ],
   "source": [
    "plt.scatter(sales['month'], sales['sales'])\n",
    "plt.xlabel('Month')\n",
    "plt.ylabel('Sales')\n",
    "plt.title(\"Overall data\")\n",
    "plt.show()"
   ]
  },
  {
   "cell_type": "code",
   "execution_count": 23,
   "metadata": {},
   "outputs": [],
   "source": [
    "def yearmonth_to_num(year_month):\n",
    "    start_year = 2008\n",
    "    year, month = year_month.split('-')\n",
    "    index = (int(year) - start_year) * 12 + (int(month) - 1)\n",
    "    return index\n",
    "    "
   ]
  },
  {
   "cell_type": "code",
   "execution_count": 26,
   "metadata": {},
   "outputs": [
    {
     "data": {
      "text/plain": [
       "133"
      ]
     },
     "execution_count": 26,
     "metadata": {},
     "output_type": "execute_result"
    }
   ],
   "source": [
    "yearmonth_to_num(\"2019-02\")"
   ]
  },
  {
   "cell_type": "code",
   "execution_count": 29,
   "metadata": {},
   "outputs": [],
   "source": [
    "yearmonth_index = [yearmonth_to_num(m) for m in sales['month']]"
   ]
  },
  {
   "cell_type": "code",
   "execution_count": 32,
   "metadata": {},
   "outputs": [],
   "source": [
    "sales['yearmonth_index'] = yearmonth_index"
   ]
  },
  {
   "cell_type": "code",
   "execution_count": 33,
   "metadata": {},
   "outputs": [
    {
     "data": {
      "text/html": [
       "<div>\n",
       "<style scoped>\n",
       "    .dataframe tbody tr th:only-of-type {\n",
       "        vertical-align: middle;\n",
       "    }\n",
       "\n",
       "    .dataframe tbody tr th {\n",
       "        vertical-align: top;\n",
       "    }\n",
       "\n",
       "    .dataframe thead th {\n",
       "        text-align: right;\n",
       "    }\n",
       "</style>\n",
       "<table border=\"1\" class=\"dataframe\">\n",
       "  <thead>\n",
       "    <tr style=\"text-align: right;\">\n",
       "      <th></th>\n",
       "      <th>month</th>\n",
       "      <th>sales</th>\n",
       "      <th>yearmonth_index</th>\n",
       "    </tr>\n",
       "  </thead>\n",
       "  <tbody>\n",
       "    <tr>\n",
       "      <th>0</th>\n",
       "      <td>2008-01</td>\n",
       "      <td>7615449</td>\n",
       "      <td>0</td>\n",
       "    </tr>\n",
       "    <tr>\n",
       "      <th>1</th>\n",
       "      <td>2008-02</td>\n",
       "      <td>8568396</td>\n",
       "      <td>1</td>\n",
       "    </tr>\n",
       "    <tr>\n",
       "      <th>2</th>\n",
       "      <td>2008-03</td>\n",
       "      <td>8819950</td>\n",
       "      <td>2</td>\n",
       "    </tr>\n",
       "    <tr>\n",
       "      <th>3</th>\n",
       "      <td>2008-04</td>\n",
       "      <td>9747502</td>\n",
       "      <td>3</td>\n",
       "    </tr>\n",
       "    <tr>\n",
       "      <th>4</th>\n",
       "      <td>2008-05</td>\n",
       "      <td>8009360</td>\n",
       "      <td>4</td>\n",
       "    </tr>\n",
       "  </tbody>\n",
       "</table>\n",
       "</div>"
      ],
      "text/plain": [
       "     month    sales  yearmonth_index\n",
       "0  2008-01  7615449                0\n",
       "1  2008-02  8568396                1\n",
       "2  2008-03  8819950                2\n",
       "3  2008-04  9747502                3\n",
       "4  2008-05  8009360                4"
      ]
     },
     "execution_count": 33,
     "metadata": {},
     "output_type": "execute_result"
    }
   ],
   "source": [
    "sales.head()"
   ]
  },
  {
   "cell_type": "code",
   "execution_count": 57,
   "metadata": {},
   "outputs": [],
   "source": [
    "from sklearn.model_selection import train_test_split"
   ]
  },
  {
   "cell_type": "code",
   "execution_count": 60,
   "metadata": {},
   "outputs": [
    {
     "data": {
      "text/plain": [
       "array([['2008-01', 7615449, 0],\n",
       "       ['2008-02', 8568396, 1],\n",
       "       ['2008-03', 8819950, 2],\n",
       "       ['2008-04', 9747502, 3],\n",
       "       ['2008-05', 8009360, 4],\n",
       "       ['2008-06', 9093838, 5],\n",
       "       ['2008-07', 9303574, 6],\n",
       "       ['2008-08', 8782821, 7],\n",
       "       ['2008-09', 10311969, 8],\n",
       "       ['2008-10', 10746532, 9],\n",
       "       ['2008-11', 9737798, 10],\n",
       "       ['2008-12', 9767261, 11],\n",
       "       ['2009-01', 9827360, 12],\n",
       "       ['2009-02', 9607434, 13],\n",
       "       ['2009-03', 10238630, 14],\n",
       "       ['2009-04', 9250043, 15],\n",
       "       ['2009-05', 8405501, 16],\n",
       "       ['2009-06', 9544035, 17],\n",
       "       ['2009-07', 10376712, 18],\n",
       "       ['2009-08', 11046516, 19],\n",
       "       ['2009-09', 13334613, 20],\n",
       "       ['2009-10', 12316032, 21],\n",
       "       ['2009-11', 11669189, 22],\n",
       "       ['2009-12', 12309787, 23],\n",
       "       ['2010-01', 14467523, 24],\n",
       "       ['2010-02', 12586453, 25],\n",
       "       ['2010-03', 14253354, 26],\n",
       "       ['2010-04', 12393216, 27],\n",
       "       ['2010-05', 10672136, 28],\n",
       "       ['2010-06', 13825379, 29],\n",
       "       ['2010-07', 12937416, 30],\n",
       "       ['2010-08', 16171131, 31],\n",
       "       ['2010-09', 14201272, 32],\n",
       "       ['2010-10', 13053236, 33],\n",
       "       ['2010-11', 12699059, 34],\n",
       "       ['2010-12', 12916814, 35],\n",
       "       ['2011-01', 16585851, 36],\n",
       "       ['2011-02', 15667800, 37],\n",
       "       ['2011-03', 16634833, 38],\n",
       "       ['2011-04', 13558281, 39],\n",
       "       ['2011-05', 16860268, 40],\n",
       "       ['2011-06', 15446410, 41],\n",
       "       ['2011-07', 15235444, 42],\n",
       "       ['2011-08', 17961460, 43],\n",
       "       ['2011-09', 16467282, 44],\n",
       "       ['2011-10', 15801866, 45],\n",
       "       ['2011-11', 16863129, 46],\n",
       "       ['2011-12', 17765450, 47],\n",
       "       ['2012-01', 20595575, 48],\n",
       "       ['2012-02', 20997922, 49],\n",
       "       ['2012-03', 19403888, 50],\n",
       "       ['2012-04', 17330647, 51],\n",
       "       ['2012-05', 17944713, 52],\n",
       "       ['2012-06', 18630831, 53],\n",
       "       ['2012-07', 22957221, 54],\n",
       "       ['2012-08', 23624208, 55],\n",
       "       ['2012-09', 20190322, 56],\n",
       "       ['2012-10', 21926545, 57],\n",
       "       ['2012-11', 23009268, 58],\n",
       "       ['2012-12', 20924017, 59],\n",
       "       ['2013-01', 23625776, 60],\n",
       "       ['2013-02', 19551419, 61],\n",
       "       ['2013-03', 23851928, 62],\n",
       "       ['2013-04', 21730884, 63],\n",
       "       ['2013-05', 22905128, 64],\n",
       "       ['2013-06', 21073488, 65],\n",
       "       ['2013-07', 23781267, 66],\n",
       "       ['2013-08', 24257864, 67],\n",
       "       ['2013-09', 23475584, 68],\n",
       "       ['2013-10', 25350464, 69],\n",
       "       ['2013-11', 25984280, 70],\n",
       "       ['2013-12', 26269673, 71],\n",
       "       ['2014-01', 29536230, 72],\n",
       "       ['2014-02', 30202006, 73],\n",
       "       ['2014-03', 33275946, 74],\n",
       "       ['2014-04', 25919976, 75],\n",
       "       ['2014-05', 24615233, 76],\n",
       "       ['2014-06', 27680546, 77],\n",
       "       ['2014-07', 27672927, 78],\n",
       "       ['2014-08', 31554795, 79],\n",
       "       ['2014-09', 28254122, 80],\n",
       "       ['2014-10', 29396922, 81],\n",
       "       ['2014-11', 27574279, 82],\n",
       "       ['2014-12', 34275362, 83],\n",
       "       ['2015-01', 33140957, 84],\n",
       "       ['2015-02', 33493507, 85],\n",
       "       ['2015-03', 37290433, 86],\n",
       "       ['2015-04', 34668914, 87],\n",
       "       ['2015-05', 32292007, 88],\n",
       "       ['2015-06', 37966637, 89],\n",
       "       ['2015-07', 36996887, 90],\n",
       "       ['2015-08', 36068226, 91],\n",
       "       ['2015-09', 37587536, 92],\n",
       "       ['2015-10', 34783938, 93],\n",
       "       ['2015-11', 35832117, 94],\n",
       "       ['2015-12', 40827962, 95],\n",
       "       ['2016-01', 38192955, 96],\n",
       "       ['2016-02', 43572184, 97],\n",
       "       ['2016-03', 38943263, 98],\n",
       "       ['2016-04', 34443592, 99],\n",
       "       ['2016-05', 32930232, 100],\n",
       "       ['2016-06', 33938038, 101],\n",
       "       ['2016-07', 33480058, 102],\n",
       "       ['2016-08', 37644356, 103],\n",
       "       ['2016-09', 38809274, 104],\n",
       "       ['2016-10', 33247251, 105],\n",
       "       ['2016-11', 38256535, 106],\n",
       "       ['2016-12', 40489819, 107],\n",
       "       ['2017-01', 35739508, 108],\n",
       "       ['2017-02', 38037922, 109],\n",
       "       ['2017-03', 39467452, 110],\n",
       "       ['2017-04', 33941699, 111],\n",
       "       ['2017-05', 32979682, 112],\n",
       "       ['2017-06', 32998007, 113],\n",
       "       ['2017-07', 35540791, 114],\n",
       "       ['2017-08', 37053174, 115],\n",
       "       ['2017-09', 34752025, 116],\n",
       "       ['2017-10', 34226198, 117],\n",
       "       ['2017-11', 33014927, 118],\n",
       "       ['2017-12', 35174774, 119],\n",
       "       ['2018-01', 37558740, 120],\n",
       "       ['2018-02', 40988743, 121],\n",
       "       ['2018-03', 35877543, 122],\n",
       "       ['2018-04', 32794664, 123],\n",
       "       ['2018-05', 34433962, 124],\n",
       "       ['2018-06', 31099590, 125],\n",
       "       ['2018-07', 31796964, 126],\n",
       "       ['2018-08', 35253013, 127],\n",
       "       ['2018-09', 30388959, 128],\n",
       "       ['2018-10', 34725977, 129],\n",
       "       ['2018-11', 35642380, 130],\n",
       "       ['2018-12', 36512564, 131],\n",
       "       ['2019-01', 36240314, 132],\n",
       "       ['2019-02', 38095216, 133],\n",
       "       ['2019-03', 36987206, 134],\n",
       "       ['2019-04', 36233414, 135],\n",
       "       ['2019-05', 32115609, 136],\n",
       "       ['2019-06', 29733707, 137],\n",
       "       ['2019-07', 35643695, 138],\n",
       "       ['2019-08', 34450755, 139],\n",
       "       ['2019-09', 34044162, 140],\n",
       "       ['2019-10', 28305755, 141]], dtype=object)"
      ]
     },
     "execution_count": 60,
     "metadata": {},
     "output_type": "execute_result"
    }
   ],
   "source": [
    "sales.values"
   ]
  },
  {
   "cell_type": "code",
   "execution_count": 61,
   "metadata": {},
   "outputs": [
    {
     "data": {
      "text/plain": [
       "array([  0,   1,   2,   3,   4,   5,   6,   7,   8,   9,  10,  11,  12,\n",
       "        13,  14,  15,  16,  17,  18,  19,  20,  21,  22,  23,  24,  25,\n",
       "        26,  27,  28,  29,  30,  31,  32,  33,  34,  35,  36,  37,  38,\n",
       "        39,  40,  41,  42,  43,  44,  45,  46,  47,  48,  49,  50,  51,\n",
       "        52,  53,  54,  55,  56,  57,  58,  59,  60,  61,  62,  63,  64,\n",
       "        65,  66,  67,  68,  69,  70,  71,  72,  73,  74,  75,  76,  77,\n",
       "        78,  79,  80,  81,  82,  83,  84,  85,  86,  87,  88,  89,  90,\n",
       "        91,  92,  93,  94,  95,  96,  97,  98,  99, 100, 101, 102, 103,\n",
       "       104, 105, 106, 107, 108, 109, 110, 111, 112, 113, 114, 115, 116,\n",
       "       117, 118, 119, 120, 121, 122, 123, 124, 125, 126, 127, 128, 129,\n",
       "       130, 131, 132, 133, 134, 135, 136, 137, 138, 139, 140, 141])"
      ]
     },
     "execution_count": 61,
     "metadata": {},
     "output_type": "execute_result"
    }
   ],
   "source": []
  },
  {
   "cell_type": "code",
   "execution_count": 73,
   "metadata": {},
   "outputs": [],
   "source": [
    "X_train, X_test, y_train, y_test = train_test_split(sales['yearmonth_index'].values.reshape(-1,1), sales['sales'].values.reshape(-1,1), test_size=0.2)"
   ]
  },
  {
   "cell_type": "code",
   "execution_count": 74,
   "metadata": {},
   "outputs": [
    {
     "data": {
      "text/plain": [
       "(113, 1)"
      ]
     },
     "execution_count": 74,
     "metadata": {},
     "output_type": "execute_result"
    }
   ],
   "source": [
    "X_train.shape"
   ]
  },
  {
   "cell_type": "code",
   "execution_count": 75,
   "metadata": {},
   "outputs": [
    {
     "data": {
      "text/plain": [
       "(113, 1)"
      ]
     },
     "execution_count": 75,
     "metadata": {},
     "output_type": "execute_result"
    }
   ],
   "source": [
    "y_train.shape"
   ]
  },
  {
   "cell_type": "code",
   "execution_count": 76,
   "metadata": {},
   "outputs": [
    {
     "data": {
      "text/plain": [
       "(29, 1)"
      ]
     },
     "execution_count": 76,
     "metadata": {},
     "output_type": "execute_result"
    }
   ],
   "source": [
    "X_test.shape"
   ]
  },
  {
   "cell_type": "code",
   "execution_count": 77,
   "metadata": {},
   "outputs": [
    {
     "data": {
      "text/plain": [
       "array([[22957221],\n",
       "       [35877543],\n",
       "       [34783938],\n",
       "       [17944713],\n",
       "       [15446410],\n",
       "       [37290433],\n",
       "       [38809274],\n",
       "       [25984280],\n",
       "       [12309787],\n",
       "       [40827962],\n",
       "       [ 9093838],\n",
       "       [ 9737798],\n",
       "       [16634833],\n",
       "       [35643695],\n",
       "       [40988743],\n",
       "       [23851928],\n",
       "       [38037922],\n",
       "       [29396922],\n",
       "       [ 9607434],\n",
       "       [19403888],\n",
       "       [23624208],\n",
       "       [14467523],\n",
       "       [11669189],\n",
       "       [ 7615449],\n",
       "       [35253013],\n",
       "       [16467282],\n",
       "       [35642380],\n",
       "       [23475584],\n",
       "       [16863129]])"
      ]
     },
     "execution_count": 77,
     "metadata": {},
     "output_type": "execute_result"
    }
   ],
   "source": [
    "y_test"
   ]
  },
  {
   "cell_type": "code",
   "execution_count": 80,
   "metadata": {},
   "outputs": [],
   "source": [
    "reg = LinearRegression().fit(X_train,  y_train)"
   ]
  },
  {
   "cell_type": "code",
   "execution_count": 81,
   "metadata": {},
   "outputs": [
    {
     "data": {
      "text/plain": [
       "0.8479940003023988"
      ]
     },
     "execution_count": 81,
     "metadata": {},
     "output_type": "execute_result"
    }
   ],
   "source": [
    "reg.score(X_train,y_train)"
   ]
  },
  {
   "cell_type": "code",
   "execution_count": 82,
   "metadata": {},
   "outputs": [
    {
     "data": {
      "text/plain": [
       "array([[232236.35929691]])"
      ]
     },
     "execution_count": 82,
     "metadata": {},
     "output_type": "execute_result"
    }
   ],
   "source": [
    "reg.coef_"
   ]
  },
  {
   "cell_type": "code",
   "execution_count": 83,
   "metadata": {},
   "outputs": [
    {
     "data": {
      "text/plain": [
       "array([8338309.22685586])"
      ]
     },
     "execution_count": 83,
     "metadata": {},
     "output_type": "execute_result"
    }
   ],
   "source": [
    "reg.intercept_"
   ]
  },
  {
   "cell_type": "code",
   "execution_count": 85,
   "metadata": {},
   "outputs": [
    {
     "name": "stdout",
     "output_type": "stream",
     "text": [
      "[[22957221]\n",
      " [35877543]\n",
      " [34783938]\n",
      " [17944713]\n",
      " [15446410]\n",
      " [37290433]\n",
      " [38809274]\n",
      " [25984280]\n",
      " [12309787]\n",
      " [40827962]\n",
      " [ 9093838]\n",
      " [ 9737798]\n",
      " [16634833]\n",
      " [35643695]\n",
      " [40988743]\n",
      " [23851928]\n",
      " [38037922]\n",
      " [29396922]\n",
      " [ 9607434]\n",
      " [19403888]\n",
      " [23624208]\n",
      " [14467523]\n",
      " [11669189]\n",
      " [ 7615449]\n",
      " [35253013]\n",
      " [16467282]\n",
      " [35642380]\n",
      " [23475584]\n",
      " [16863129]]\n"
     ]
    }
   ],
   "source": [
    "print(y_test)"
   ]
  },
  {
   "cell_type": "code",
   "execution_count": 107,
   "metadata": {},
   "outputs": [],
   "source": [
    "predicts = reg.predict(X_test)"
   ]
  },
  {
   "cell_type": "code",
   "execution_count": 109,
   "metadata": {},
   "outputs": [],
   "source": [
    "overall_diff_perc = 0"
   ]
  },
  {
   "cell_type": "code",
   "execution_count": 110,
   "metadata": {},
   "outputs": [
    {
     "name": "stdout",
     "output_type": "stream",
     "text": [
      "Sales: [22957221], Predicted Sales: [20879072.62888902], Diff: [2078148.37111098], Diff Percent: [0.09052265]\n",
      "Sales: [35877543], Predicted Sales: [36671145.06107894], Diff: [793602.06107894], Diff Percent: [0.02211974]\n",
      "Sales: [34783938], Predicted Sales: [29936290.64146853], Diff: [4847647.35853147], Diff Percent: [0.13936454]\n",
      "Sales: [17944713], Predicted Sales: [20414599.9102952], Diff: [2469886.9102952], Diff Percent: [0.1376387]\n",
      "Sales: [15446410], Predicted Sales: [17859999.95802919], Diff: [2413589.95802919], Diff Percent: [0.15625572]\n",
      "Sales: [37290433], Predicted Sales: [28310636.12639016], Diff: [8979796.87360984], Diff Percent: [0.24080699]\n",
      "Sales: [38809274], Predicted Sales: [32490890.59373455], Diff: [6318383.40626545], Diff Percent: [0.16280602]\n",
      "Sales: [25984280], Predicted Sales: [24594854.37763959], Diff: [1389425.62236041], Diff Percent: [0.05347178]\n",
      "Sales: [12309787], Predicted Sales: [13679745.4906848], Diff: [1369958.4906848], Diff Percent: [0.11129019]\n",
      "Sales: [40827962], Predicted Sales: [30400763.36006235], Diff: [10427198.63993765], Diff Percent: [0.25539356]\n",
      "Sales: [9093838], Predicted Sales: [9499491.02334041], Diff: [405653.02334041], Diff Percent: [0.04460746]\n",
      "Sales: [9737798], Predicted Sales: [10660672.81982496], Diff: [922874.81982496], Diff Percent: [0.09477243]\n",
      "Sales: [16634833], Predicted Sales: [17163290.88013846], Diff: [528457.88013846], Diff Percent: [0.03176815]\n",
      "Sales: [35643695], Predicted Sales: [40386926.8098295], Diff: [4743231.8098295], Diff Percent: [0.13307352]\n",
      "Sales: [40988743], Predicted Sales: [36438908.70178203], Diff: [4549834.29821797], Diff Percent: [0.11100205]\n",
      "Sales: [23851928], Predicted Sales: [22736963.50326431], Diff: [1114964.49673569], Diff Percent: [0.04674526]\n",
      "Sales: [38037922], Predicted Sales: [33652072.3902191], Diff: [4385849.6097809], Diff Percent: [0.11530203]\n",
      "Sales: [29396922], Predicted Sales: [27149454.32990561], Diff: [2247467.67009439], Diff Percent: [0.07645248]\n",
      "Sales: [9607434], Predicted Sales: [11357381.89771569], Diff: [1749947.89771569], Diff Percent: [0.18214519]\n",
      "Sales: [19403888], Predicted Sales: [19950127.19170138], Diff: [546239.19170138], Diff Percent: [0.02815102]\n",
      "Sales: [23624208], Predicted Sales: [21111308.98818593], Diff: [2512899.01181407], Diff Percent: [0.10636966]\n",
      "Sales: [14467523], Predicted Sales: [13911981.84998171], Diff: [555541.15001829], Diff Percent: [0.03839919]\n",
      "Sales: [11669189], Predicted Sales: [13447509.13138789], Diff: [1778320.13138789], Diff Percent: [0.15239449]\n",
      "Sales: [7615449], Predicted Sales: [8338309.22685586], Diff: [722860.22685586], Diff Percent: [0.09492024]\n",
      "Sales: [35253013], Predicted Sales: [37832326.85756349], Diff: [2579313.85756349], Diff Percent: [0.07316577]\n",
      "Sales: [16467282], Predicted Sales: [18556709.03591992], Diff: [2089427.03591992], Diff Percent: [0.12688354]\n",
      "Sales: [35642380], Predicted Sales: [38529035.93545422], Diff: [2886655.93545422], Diff Percent: [0.08098943]\n",
      "Sales: [23475584], Predicted Sales: [24130381.65904577], Diff: [654797.65904577], Diff Percent: [0.02789271]\n",
      "Sales: [16863129], Predicted Sales: [19021181.75451374], Diff: [2158052.75451374], Diff Percent: [0.12797463]\n",
      "average diff percent:  [0.10560962]\n"
     ]
    }
   ],
   "source": [
    "for y, y_hat in zip(y_test, predicts):\n",
    "    overall_diff_perc += abs(y-y_hat)/y\n",
    "    print(\"Sales: {}, Predicted Sales: {}, Diff: {}, Diff Percent: {}\".format(y, y_hat, abs(y-y_hat), abs(y-y_hat)/y))\n",
    "print(\"average diff percent: \", overall_diff_perc/len(y_test))"
   ]
  },
  {
   "cell_type": "code",
   "execution_count": 93,
   "metadata": {},
   "outputs": [
    {
     "data": {
      "text/plain": [
       "array([[41315872.24701715]])"
      ]
     },
     "execution_count": 93,
     "metadata": {},
     "output_type": "execute_result"
    }
   ],
   "source": [
    "reg.predict(np.array([142]).reshape(-1,1))"
   ]
  },
  {
   "cell_type": "code",
   "execution_count": 106,
   "metadata": {},
   "outputs": [
    {
     "data": {
      "text/plain": [
       "<matplotlib.collections.PathCollection at 0x7f125e0d8390>"
      ]
     },
     "execution_count": 106,
     "metadata": {},
     "output_type": "execute_result"
    },
    {
     "data": {
      "image/png": "[encoded data removed]",
      "text/plain": [
       "<Figure size 432x288 with 1 Axes>"
      ]
     },
     "metadata": {
      "needs_background": "light"
     },
     "output_type": "display_data"
    }
   ],
   "source": [
    "plt.scatter(X_test, y_test)\n",
    "plt.scatter(X_test, predicts)"
   ]
  },
  {
   "cell_type": "code",
   "execution_count": null,
   "metadata": {},
   "outputs": [],
   "source": []
  },
  {
   "cell_type": "code",
   "execution_count": null,
   "metadata": {},
   "outputs": [],
   "source": []
  }
 ],
 "metadata": {
  "kernelspec": {
   "display_name": "Python 3",
   "language": "python",
   "name": "python3"
  },
  "language_info": {
   "codemirror_mode": {
    "name": "ipython",
    "version": 3
   },
   "file_extension": ".py",
   "mimetype": "text/x-python",
   "name": "python",
   "nbconvert_exporter": "python",
   "pygments_lexer": "ipython3",
   "version": "3.7.3"
  }
 },
 "nbformat": 4,
 "nbformat_minor": 2
}
